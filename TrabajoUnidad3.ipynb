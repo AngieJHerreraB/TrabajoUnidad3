{
  "cells": [
    {
      "cell_type": "code",
      "execution_count": null,
      "metadata": {
        "colab": {
          "base_uri": "https://localhost:8080/"
        },
        "id": "yYM_qVuNb-uI",
        "outputId": "cbe07811-da63-4dd2-a443-5c7f86473f5c"
      },
      "outputs": [
        {
          "name": "stdout",
          "output_type": "stream",
          "text": [
            "Collecting pydicom\n",
            "  Downloading pydicom-2.4.4-py3-none-any.whl (1.8 MB)\n",
            "\u001b[2K     \u001b[90m━━━━━━━━━━━━━━━━━━━━━━━━━━━━━━━━━━━━━━━━\u001b[0m \u001b[32m1.8/1.8 MB\u001b[0m \u001b[31m9.5 MB/s\u001b[0m eta \u001b[36m0:00:00\u001b[0m\n",
            "\u001b[?25hInstalling collected packages: pydicom\n",
            "Successfully installed pydicom-2.4.4\n"
          ]
        }
      ],
      "source": [
        "!pip install pydicom"
      ]
    },
    {
      "cell_type": "code",
      "execution_count": null,
      "metadata": {
        "colab": {
          "base_uri": "https://localhost:8080/"
        },
        "id": "sqpOk7-WcdXa",
        "outputId": "3064b117-136f-42f4-9e4e-1760f16db833"
      },
      "outputs": [
        {
          "name": "stdout",
          "output_type": "stream",
          "text": [
            "Collecting dicom2nifti\n",
            "  Downloading dicom2nifti-2.4.11-py3-none-any.whl (43 kB)\n",
            "\u001b[2K     \u001b[90m━━━━━━━━━━━━━━━━━━━━━━━━━━━━━━━━━━━━━━━━\u001b[0m \u001b[32m43.6/43.6 kB\u001b[0m \u001b[31m777.6 kB/s\u001b[0m eta \u001b[36m0:00:00\u001b[0m\n",
            "\u001b[?25hRequirement already satisfied: nibabel in /usr/local/lib/python3.10/dist-packages (from dicom2nifti) (4.0.2)\n",
            "Requirement already satisfied: numpy in /usr/local/lib/python3.10/dist-packages (from dicom2nifti) (1.25.2)\n",
            "Requirement already satisfied: scipy in /usr/local/lib/python3.10/dist-packages (from dicom2nifti) (1.11.4)\n",
            "Requirement already satisfied: pydicom>=2.2.0 in /usr/local/lib/python3.10/dist-packages (from dicom2nifti) (2.4.4)\n",
            "Collecting python-gdcm (from dicom2nifti)\n",
            "  Downloading python_gdcm-3.0.24.1-cp310-cp310-manylinux_2_17_x86_64.manylinux2014_x86_64.whl (13.1 MB)\n",
            "\u001b[2K     \u001b[90m━━━━━━━━━━━━━━━━━━━━━━━━━━━━━━━━━━━━━━━━\u001b[0m \u001b[32m13.1/13.1 MB\u001b[0m \u001b[31m49.2 MB/s\u001b[0m eta \u001b[36m0:00:00\u001b[0m\n",
            "\u001b[?25hRequirement already satisfied: packaging>=17.0 in /usr/local/lib/python3.10/dist-packages (from nibabel->dicom2nifti) (24.0)\n",
            "Requirement already satisfied: setuptools in /usr/local/lib/python3.10/dist-packages (from nibabel->dicom2nifti) (67.7.2)\n",
            "Installing collected packages: python-gdcm, dicom2nifti\n",
            "Successfully installed dicom2nifti-2.4.11 python-gdcm-3.0.24.1\n"
          ]
        }
      ],
      "source": [
        "!pip install dicom2nifti"
      ]
    },
    {
      "cell_type": "code",
      "execution_count": null,
      "metadata": {
        "colab": {
          "base_uri": "https://localhost:8080/"
        },
        "id": "tAk2ei3ZcgK0",
        "outputId": "70f27356-4369-4732-9d6b-236642668ad9"
      },
      "outputs": [
        {
          "name": "stdout",
          "output_type": "stream",
          "text": [
            "Collecting nilearn\n",
            "  Downloading nilearn-0.10.4-py3-none-any.whl (10.4 MB)\n",
            "\u001b[2K     \u001b[90m━━━━━━━━━━━━━━━━━━━━━━━━━━━━━━━━━━━━━━━━\u001b[0m \u001b[32m10.4/10.4 MB\u001b[0m \u001b[31m63.6 MB/s\u001b[0m eta \u001b[36m0:00:00\u001b[0m\n",
            "\u001b[?25hRequirement already satisfied: joblib>=1.0.0 in /usr/local/lib/python3.10/dist-packages (from nilearn) (1.4.2)\n",
            "Requirement already satisfied: lxml in /usr/local/lib/python3.10/dist-packages (from nilearn) (4.9.4)\n",
            "Requirement already satisfied: nibabel>=4.0.0 in /usr/local/lib/python3.10/dist-packages (from nilearn) (4.0.2)\n",
            "Requirement already satisfied: numpy>=1.19.0 in /usr/local/lib/python3.10/dist-packages (from nilearn) (1.25.2)\n",
            "Requirement already satisfied: packaging in /usr/local/lib/python3.10/dist-packages (from nilearn) (24.0)\n",
            "Requirement already satisfied: pandas>=1.1.5 in /usr/local/lib/python3.10/dist-packages (from nilearn) (2.0.3)\n",
            "Requirement already satisfied: requests>=2.25.0 in /usr/local/lib/python3.10/dist-packages (from nilearn) (2.31.0)\n",
            "Requirement already satisfied: scikit-learn>=1.0.0 in /usr/local/lib/python3.10/dist-packages (from nilearn) (1.2.2)\n",
            "Requirement already satisfied: scipy>=1.8.0 in /usr/local/lib/python3.10/dist-packages (from nilearn) (1.11.4)\n",
            "Requirement already satisfied: setuptools in /usr/local/lib/python3.10/dist-packages (from nibabel>=4.0.0->nilearn) (67.7.2)\n",
            "Requirement already satisfied: python-dateutil>=2.8.2 in /usr/local/lib/python3.10/dist-packages (from pandas>=1.1.5->nilearn) (2.8.2)\n",
            "Requirement already satisfied: pytz>=2020.1 in /usr/local/lib/python3.10/dist-packages (from pandas>=1.1.5->nilearn) (2023.4)\n",
            "Requirement already satisfied: tzdata>=2022.1 in /usr/local/lib/python3.10/dist-packages (from pandas>=1.1.5->nilearn) (2024.1)\n",
            "Requirement already satisfied: charset-normalizer<4,>=2 in /usr/local/lib/python3.10/dist-packages (from requests>=2.25.0->nilearn) (3.3.2)\n",
            "Requirement already satisfied: idna<4,>=2.5 in /usr/local/lib/python3.10/dist-packages (from requests>=2.25.0->nilearn) (3.7)\n",
            "Requirement already satisfied: urllib3<3,>=1.21.1 in /usr/local/lib/python3.10/dist-packages (from requests>=2.25.0->nilearn) (2.0.7)\n",
            "Requirement already satisfied: certifi>=2017.4.17 in /usr/local/lib/python3.10/dist-packages (from requests>=2.25.0->nilearn) (2024.2.2)\n",
            "Requirement already satisfied: threadpoolctl>=2.0.0 in /usr/local/lib/python3.10/dist-packages (from scikit-learn>=1.0.0->nilearn) (3.5.0)\n",
            "Requirement already satisfied: six>=1.5 in /usr/local/lib/python3.10/dist-packages (from python-dateutil>=2.8.2->pandas>=1.1.5->nilearn) (1.16.0)\n",
            "Installing collected packages: nilearn\n",
            "Successfully installed nilearn-0.10.4\n"
          ]
        }
      ],
      "source": [
        "!pip install nilearn"
      ]
    },
    {
      "cell_type": "code",
      "execution_count": null,
      "metadata": {
        "id": "e1lVR9pvdvBC"
      },
      "outputs": [],
      "source": [
        "import pydicom\n",
        "import dicom2nifti\n",
        "import nilearn\n",
        "from nilearn import plotting\n",
        "import pandas as pd\n",
        "import os"
      ]
    },
    {
      "cell_type": "code",
      "execution_count": 112,
      "metadata": {
        "id": "VIELf1v3kN0u"
      },
      "outputs": [],
      "source": [
        "class Paciente():\n",
        "  def __init__(self):\n",
        "    self.__nombre = None\n",
        "    self.__IdPaciente = None\n",
        "\n",
        "  def verNombre(self):\n",
        "    return self.__nombre\n",
        "\n",
        "  def asignarNombre(self,ruta):\n",
        "    self.__nombre = ruta[0x0010,0x0010].value\n",
        "\n",
        "  def verIdPaciente(self):\n",
        "    return self.__IdPaciente\n",
        "\n",
        "  def asignarIdPaciente(self,ruta):\n",
        "    self.__IdPaciente = ruta[0x0010,0x0020].value\n",
        "\n",
        "class Estudio():\n",
        "  def __init__(self):\n",
        "    self.__IdEstudio = None\n",
        "    self.fecha = None\n",
        "    self.modalidad = None\n",
        "    self.descripcion = None\n",
        "    self.dimensionImg = None\n",
        "\n",
        "  def verIdEstudio(self):\n",
        "    return self.__IdEstudio\n",
        "\n",
        "  def asignarIdEstudio(self,ruta):\n",
        "    self.__IdEstudio = ruta[0x0020,0x0010].value\n",
        "\n",
        "  def visualizarInfoEst(self,archivo):\n",
        "    self.fecha = archivo[0x0008,0x0020].value\n",
        "    self.modalidad = archivo[0x0008,0x0060].value\n",
        "    self.descripcion = archivo[0x0008,0x1030].value\n",
        "    data = {'Consultas': ['Fecha','Modalidad','Descripcion'],\n",
        "            'Datos': [self.fecha,self.modalidad,self.descripcion]}\n",
        "\n",
        "    self.tabla = pd.DataFrame(data,columns = ['Consultas','Datos'])\n",
        "    self.tabla = self.tabla.assign(Numero = range(1,4))\n",
        "    self.tabla = self.tabla.set_index('Item')\n",
        "    return self.tabla\n",
        "\n",
        "  def convertir(self,dicom):\n",
        "    self.dicom = os.path.join(dicom)\n",
        "    self.carpetaNueva = os.mkdir('./nifti')\n",
        "    self.conversion = dicom2nifti.convert_directory(self.dicom,self.carpetaNueva)\n",
        "    return self.conversion\n",
        "\n",
        "  def visualizarImagen(self,nifti,forma):\n",
        "    self.nombre = Sistema.cargarArchivo()\n",
        "    self.read = nilearn.image.load_img(nifti)\n",
        "    self.imagen = plotting.plot_anat(self.read, display_mode = forma, title = self.nombre, colorbar = True, cmap = 'inferno')\n",
        "\n",
        "class Sistema():\n",
        "  def __init__(self):\n",
        "    self.est = Estudio()\n",
        "\n",
        "  def cargarCarpeta(self):\n",
        "    self.local = os.chdir(r'/content/drive/MyDrive/archivos') # esta ruta debe actualizarse, puesto que los archivos\n",
        "    self.lista = []                                           # se encuentan en otra ruta\n",
        "\n",
        "    for archivo in os.listdir(os.getcwd()):\n",
        "      if archivo.endswith(archivo):\n",
        "        self.rutas = os.path.join(os.getcwd(), archivo)\n",
        "        if self.rutas in self.lista:\n",
        "          continue\n",
        "        else:\n",
        "          self.lista.append(self.rutas)\n",
        "    self.lista.sort()\n",
        "    return self.lista\n",
        "\n",
        "  def cargarArchivo(self,lista,posicion):\n",
        "    for archivo in os.listdir(lista[posicion]):\n",
        "      if archivo.endswith(archivo):\n",
        "        self.ruta = os.path.join(lista[posicion],archivo)\n",
        "        self.leer = pydicom.dcmread(self.ruta)\n",
        "        return self.leer\n",
        "\n",
        "  def crearData(self,idPaciente):\n",
        "    self.estudio = baseDatos.setdefault(idPaciente,[])\n",
        "\n",
        "  def addEstudio(self,idPaciente,idEstudio):\n",
        "    self.add = baseDatos[idPaciente].append(idEstudio)\n",
        "\n",
        "  def validarIdPaciente(self,idPaciente):\n",
        "    while True:\n",
        "      if idPaciente in baseDatos:\n",
        "        print('  Paciente registrado.\\n')\n",
        "        return idPaciente\n",
        "      else:\n",
        "        idPaciente = input('  Paciente no registrado. Intente de nuevo: ')\n",
        "\n",
        "  def validarIdEstudio(self, idEstudio, idPaciente):\n",
        "    while True:\n",
        "      existencia = False\n",
        "      for i, a in baseDatos.items():\n",
        "        if idEstudio in a:\n",
        "          existencia = True\n",
        "          if i == idPaciente:\n",
        "            idEstudio = input('\\n  Este estudio ya le pertenece al actual paciente.\\n  Ingrese otro estudio: ')\n",
        "          else:\n",
        "            add = input('\\n  Este estudio le pertenece a otro paciente.\\n  ¿Desea continuar con este?\\n  1. Sí.\\n  2. No.\\n\\n  Ingrese una opción: ')\n",
        "            try:\n",
        "              add = int(add)\n",
        "              if add == 1:\n",
        "                return idEstudio\n",
        "              elif add == 2:\n",
        "                idEstudio = input('  Ingrese otro estudio: ')\n",
        "              else:\n",
        "                print('  Opción no válida. Intente nuevamente.')\n",
        "            except ValueError:\n",
        "              print('  Valor incorrecto. Ingrese un número válido.')\n",
        "\n",
        "      if not existencia:\n",
        "              idEstudio = input('  Este estudio no existe. Intente de nuevo: ')\n",
        "\n",
        "  def validarNumero(self,numero):\n",
        "    while True:\n",
        "      if numero.isdigit():\n",
        "        return int(numero)\n",
        "      try:\n",
        "        return float(numero)\n",
        "      except ValueError:\n",
        "          numero = input('\\n  Ingrese un número: ')\n",
        "\n",
        "  def cargarConsulta(self,idPac):\n",
        "    for i in baseDatos.keys():\n",
        "      if i == idPac:\n",
        "        lista = list(baseDatos.keys())\n",
        "        self.posicion = lista.index(idPac)\n",
        "    # se cargan las carpetas y archivos\n",
        "    for i in range(len(Sistema.cargarCarpeta(self))):\n",
        "      self.carpeta = Sistema.cargarCarpeta(self)\n",
        "      self.archivo = Sistema.cargarArchivo(self,self.carpeta,self.posicion)\n",
        "      return self.archivo\n",
        "\n",
        "  def cargarVisualizar(self,idPac):\n",
        "    for i in baseDatos.keys():\n",
        "      if i == idPac:\n",
        "        lista = list(baseDatos.keys())\n",
        "        self.posicion = lista.index(idPac)\n",
        "    # se cargan las carpetas y archivos\n",
        "        self.carpeta = Sistema.cargarCarpeta(self)\n",
        "    return os.path.join(self.carpeta[self.posicion])\n"
      ]
    },
    {
      "cell_type": "code",
      "execution_count": 115,
      "metadata": {
        "colab": {
          "base_uri": "https://localhost:8080/"
        },
        "id": "Ry_UmUECGcWu",
        "outputId": "31a9965d-22ad-40bc-a4b4-de4af63f4fe1"
      },
      "outputs": [
        {
          "output_type": "stream",
          "name": "stdout",
          "text": [
            "\n",
            "¡Bienvenido al Sistema de Gestion Avanzada de Imagenes DICOM!\n",
            "\n",
            "  ¿Qué desea realizar?\n",
            "\n",
            "  1. Añadir un estudio a paciente.\n",
            "  2. Consultar información del estudio.\n",
            "  3. Visualizar imagen médica. \n",
            "  4. Salir del sistema.\n",
            "\n",
            "  Ingrese una opción: 4\n",
            "\n",
            "¡Gracias por usar el Sistema! Hasta pronto...\n"
          ]
        }
      ],
      "source": [
        "baseDatos = {}\n",
        "\n",
        "def main():\n",
        "  pac = Paciente()\n",
        "  est = Estudio()\n",
        "  sis = Sistema()\n",
        "\n",
        "  # se cargan las carpetas del local\n",
        "  for i in range(len(sis.cargarCarpeta())):\n",
        "    carpeta = sis.cargarCarpeta()\n",
        "    archivo = sis.cargarArchivo(carpeta,i)\n",
        "\n",
        "  # se asocia la información para la creación de una base de datos\n",
        "    nombre = pac.asignarNombre(archivo)\n",
        "    idPaciente = pac.asignarIdPaciente(archivo)\n",
        "    idPaciente = pac.verIdPaciente()\n",
        "    idEstudio = est.asignarIdEstudio(archivo)\n",
        "    idEstudio = est.verIdEstudio()\n",
        "    asociacion = sis.crearData(idPaciente)\n",
        "    asociacion = sis.addEstudio(idPaciente,idEstudio)\n",
        "\n",
        "  while True:\n",
        "\n",
        "    print('\\n¡Bienvenido al Sistema de Gestion Avanzada de Imagenes DICOM!\\n')\n",
        "\n",
        "    menu = input('  ¿Qué desea realizar?\\n\\n  1. Añadir un estudio a paciente.\\n  2. Consultar información del estudio.\\n  3. Visualizar imagen médica. \\n  4. Salir del sistema.\\n\\n  Ingrese una opción: ')\n",
        "    menu = sis.validarNumero(menu)\n",
        "\n",
        "    if menu == 1: # opcion para añadir estudio\n",
        "      idPac = input('\\n  Ingrese el ID del paciente: ')\n",
        "      idPac = sis.validarIdPaciente(idPac)\n",
        "      idEst = input('  Ingrese el ID del estudio a añadir: ')\n",
        "      idEst = sis.validarIdEstudio(idEst,idPac)\n",
        "      add = sis.addEstudio(idPac,idEst)\n",
        "      print('¡Ha añadido un nuevo archivo!')\n",
        "\n",
        "    if menu == 2: # opcion para consultar estudio\n",
        "      menu1 = input('\\n  Consultas\\n\\n  1. Consultar información especifíca de un estudio.\\n  2. Consultar cantidad de estudios por paciente.\\n\\n  Ingrese una opción: ')\n",
        "      menu1 = sis.validarNumero(menu1)\n",
        "\n",
        "      if menu1 == 1: # consultar info especifica\n",
        "        idPac = input('\\n  Ingrese el ID del paciente: ')\n",
        "        idPac = sis.validarIdPaciente(idPac)\n",
        "        consulta = sis.cargarConsulta(idPac)\n",
        "        tabla = est.visualizarInfoEst(consulta)\n",
        "        print(tabla)\n",
        "\n",
        "      if menu1 == 2: # cantidad de estudios\n",
        "        idPac = input('\\n  Ingrese el ID del paciente: ')\n",
        "        idPac = sis.validarIdPaciente(idPac)\n",
        "        cantidad = len(list(baseDatos[idPac]))\n",
        "        print(f'El paciente ingresado posee {cantidad} estudio(s)')\n",
        "\n",
        "      else:\n",
        "        print('\\n  Valor no válido.')\n",
        "\n",
        "    if menu == 3: # opcion para visualizar imagen\n",
        "      idPac = input('\\n  Ingrese el ID del paciente: ')\n",
        "      idPac = sis.validarIdPaciente(idPac)\n",
        "      visual = sis.cargarVisualizar(idPac)\n",
        "      convertir = est.convertir(visual)\n",
        "      # esto para evitar un error por cargar una carpeta sin un elemento DICOM para leer,\n",
        "      # en caso de volver a cargar esta celda. Al haber finalizado la opción de 3.\n",
        "      eliminarCarpeta = os.rmdir('./nifti')\n",
        "\n",
        "    if menu == 4: # opcion para salir\n",
        "      print('\\n¡Gracias por usar el Sistema! Hasta pronto...')\n",
        "      break\n",
        "\n",
        "if __name__=='__main__':\n",
        "  main()"
      ]
    }
  ],
  "metadata": {
    "colab": {
      "provenance": []
    },
    "kernelspec": {
      "display_name": "Python 3",
      "name": "python3"
    },
    "language_info": {
      "name": "python"
    }
  },
  "nbformat": 4,
  "nbformat_minor": 0
}