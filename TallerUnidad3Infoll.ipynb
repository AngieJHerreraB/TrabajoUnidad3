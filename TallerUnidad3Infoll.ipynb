{
  "nbformat": 4,
  "nbformat_minor": 0,
  "metadata": {
    "colab": {
      "provenance": []
    },
    "kernelspec": {
      "name": "python3",
      "display_name": "Python 3"
    },
    "language_info": {
      "name": "python"
    }
  },
  "cells": [
    {
      "cell_type": "code",
      "execution_count": 1,
      "metadata": {
        "colab": {
          "base_uri": "https://localhost:8080/"
        },
        "id": "0FrhNSoR8FlL",
        "outputId": "a11b0a12-2235-457b-b42f-8eb5185b788f"
      },
      "outputs": [
        {
          "output_type": "stream",
          "name": "stdout",
          "text": [
            "Collecting pydicom\n",
            "  Downloading pydicom-2.4.4-py3-none-any.whl (1.8 MB)\n",
            "\u001b[2K     \u001b[90m━━━━━━━━━━━━━━━━━━━━━━━━━━━━━━━━━━━━━━━━\u001b[0m \u001b[32m1.8/1.8 MB\u001b[0m \u001b[31m6.9 MB/s\u001b[0m eta \u001b[36m0:00:00\u001b[0m\n",
            "\u001b[?25hInstalling collected packages: pydicom\n",
            "Successfully installed pydicom-2.4.4\n"
          ]
        }
      ],
      "source": [
        "!pip install pydicom"
      ]
    },
    {
      "cell_type": "code",
      "source": [
        "!pip install dicom2nifti"
      ],
      "metadata": {
        "colab": {
          "base_uri": "https://localhost:8080/"
        },
        "id": "fTAl8v_78QfU",
        "outputId": "7f520c70-850a-4bf4-e04a-a03ee4263821"
      },
      "execution_count": 2,
      "outputs": [
        {
          "output_type": "stream",
          "name": "stdout",
          "text": [
            "Collecting dicom2nifti\n",
            "  Downloading dicom2nifti-2.4.11-py3-none-any.whl (43 kB)\n",
            "\u001b[2K     \u001b[90m━━━━━━━━━━━━━━━━━━━━━━━━━━━━━━━━━━━━━━━━\u001b[0m \u001b[32m43.6/43.6 kB\u001b[0m \u001b[31m674.1 kB/s\u001b[0m eta \u001b[36m0:00:00\u001b[0m\n",
            "\u001b[?25hRequirement already satisfied: nibabel in /usr/local/lib/python3.10/dist-packages (from dicom2nifti) (4.0.2)\n",
            "Requirement already satisfied: numpy in /usr/local/lib/python3.10/dist-packages (from dicom2nifti) (1.25.2)\n",
            "Requirement already satisfied: scipy in /usr/local/lib/python3.10/dist-packages (from dicom2nifti) (1.11.4)\n",
            "Requirement already satisfied: pydicom>=2.2.0 in /usr/local/lib/python3.10/dist-packages (from dicom2nifti) (2.4.4)\n",
            "Collecting python-gdcm (from dicom2nifti)\n",
            "  Downloading python_gdcm-3.0.24.1-cp310-cp310-manylinux_2_17_x86_64.manylinux2014_x86_64.whl (13.1 MB)\n",
            "\u001b[2K     \u001b[90m━━━━━━━━━━━━━━━━━━━━━━━━━━━━━━━━━━━━━━━━\u001b[0m \u001b[32m13.1/13.1 MB\u001b[0m \u001b[31m35.5 MB/s\u001b[0m eta \u001b[36m0:00:00\u001b[0m\n",
            "\u001b[?25hRequirement already satisfied: packaging>=17.0 in /usr/local/lib/python3.10/dist-packages (from nibabel->dicom2nifti) (24.0)\n",
            "Requirement already satisfied: setuptools in /usr/local/lib/python3.10/dist-packages (from nibabel->dicom2nifti) (67.7.2)\n",
            "Installing collected packages: python-gdcm, dicom2nifti\n",
            "Successfully installed dicom2nifti-2.4.11 python-gdcm-3.0.24.1\n"
          ]
        }
      ]
    },
    {
      "cell_type": "code",
      "source": [
        "!pip install nilearn"
      ],
      "metadata": {
        "colab": {
          "base_uri": "https://localhost:8080/"
        },
        "id": "sj1VMJqG8SUE",
        "outputId": "ed7bd9b4-69fe-432f-bcd0-b8ecd36ad707"
      },
      "execution_count": 3,
      "outputs": [
        {
          "output_type": "stream",
          "name": "stdout",
          "text": [
            "Collecting nilearn\n",
            "  Downloading nilearn-0.10.4-py3-none-any.whl (10.4 MB)\n",
            "\u001b[2K     \u001b[90m━━━━━━━━━━━━━━━━━━━━━━━━━━━━━━━━━━━━━━━━\u001b[0m \u001b[32m10.4/10.4 MB\u001b[0m \u001b[31m37.3 MB/s\u001b[0m eta \u001b[36m0:00:00\u001b[0m\n",
            "\u001b[?25hRequirement already satisfied: joblib>=1.0.0 in /usr/local/lib/python3.10/dist-packages (from nilearn) (1.4.2)\n",
            "Requirement already satisfied: lxml in /usr/local/lib/python3.10/dist-packages (from nilearn) (4.9.4)\n",
            "Requirement already satisfied: nibabel>=4.0.0 in /usr/local/lib/python3.10/dist-packages (from nilearn) (4.0.2)\n",
            "Requirement already satisfied: numpy>=1.19.0 in /usr/local/lib/python3.10/dist-packages (from nilearn) (1.25.2)\n",
            "Requirement already satisfied: packaging in /usr/local/lib/python3.10/dist-packages (from nilearn) (24.0)\n",
            "Requirement already satisfied: pandas>=1.1.5 in /usr/local/lib/python3.10/dist-packages (from nilearn) (2.0.3)\n",
            "Requirement already satisfied: requests>=2.25.0 in /usr/local/lib/python3.10/dist-packages (from nilearn) (2.31.0)\n",
            "Requirement already satisfied: scikit-learn>=1.0.0 in /usr/local/lib/python3.10/dist-packages (from nilearn) (1.2.2)\n",
            "Requirement already satisfied: scipy>=1.8.0 in /usr/local/lib/python3.10/dist-packages (from nilearn) (1.11.4)\n",
            "Requirement already satisfied: setuptools in /usr/local/lib/python3.10/dist-packages (from nibabel>=4.0.0->nilearn) (67.7.2)\n",
            "Requirement already satisfied: python-dateutil>=2.8.2 in /usr/local/lib/python3.10/dist-packages (from pandas>=1.1.5->nilearn) (2.8.2)\n",
            "Requirement already satisfied: pytz>=2020.1 in /usr/local/lib/python3.10/dist-packages (from pandas>=1.1.5->nilearn) (2023.4)\n",
            "Requirement already satisfied: tzdata>=2022.1 in /usr/local/lib/python3.10/dist-packages (from pandas>=1.1.5->nilearn) (2024.1)\n",
            "Requirement already satisfied: charset-normalizer<4,>=2 in /usr/local/lib/python3.10/dist-packages (from requests>=2.25.0->nilearn) (3.3.2)\n",
            "Requirement already satisfied: idna<4,>=2.5 in /usr/local/lib/python3.10/dist-packages (from requests>=2.25.0->nilearn) (3.7)\n",
            "Requirement already satisfied: urllib3<3,>=1.21.1 in /usr/local/lib/python3.10/dist-packages (from requests>=2.25.0->nilearn) (2.0.7)\n",
            "Requirement already satisfied: certifi>=2017.4.17 in /usr/local/lib/python3.10/dist-packages (from requests>=2.25.0->nilearn) (2024.2.2)\n",
            "Requirement already satisfied: threadpoolctl>=2.0.0 in /usr/local/lib/python3.10/dist-packages (from scikit-learn>=1.0.0->nilearn) (3.5.0)\n",
            "Requirement already satisfied: six>=1.5 in /usr/local/lib/python3.10/dist-packages (from python-dateutil>=2.8.2->pandas>=1.1.5->nilearn) (1.16.0)\n",
            "Installing collected packages: nilearn\n",
            "Successfully installed nilearn-0.10.4\n"
          ]
        }
      ]
    },
    {
      "cell_type": "code",
      "execution_count": 9,
      "metadata": {
        "colab": {
          "base_uri": "https://localhost:8080/"
        },
        "id": "4E6VJyL9F230",
        "outputId": "a8e0db67-8c8b-43b2-e01b-0fe123b2e6e5"
      },
      "outputs": [
        {
          "output_type": "stream",
          "name": "stdout",
          "text": [
            "Mounted at /content/drive\n"
          ]
        }
      ],
      "source": [
        "from google.colab import drive\n",
        "drive.mount('/content/drive')"
      ]
    },
    {
      "cell_type": "code",
      "source": [
        "import pydicom\n",
        "import dicom2nifti"
      ],
      "metadata": {
        "id": "Sv9aheuY8Xy1"
      },
      "execution_count": 10,
      "outputs": []
    },
    {
      "cell_type": "code",
      "execution_count": 11,
      "metadata": {
        "id": "-tw-GOcc3-9h"
      },
      "outputs": [],
      "source": [
        "class Paciente():\n",
        "  def __init__(self):\n",
        "    self.__nombre = None\n",
        "    self.__IdPaciente = 0\n",
        "    self.listaEstudios = []\n",
        "    self.dicom = None\n",
        "    self.nifti= None\n",
        "    self.dicom = None\n",
        "    self.anonimizado= None\n",
        "\n",
        "\n",
        "  def verNombre(self):\n",
        "    return self.__nombre\n",
        "\n",
        "  def asignarNombre(self, nombre):\n",
        "    self.__nombre = nombre\n",
        "\n",
        "  def verIdPaciente(self):\n",
        "    return self.__IdPaciente\n",
        "\n",
        "  def asignarIdPaciente(self, IdPaciente):\n",
        "    self.__IdPaciente = IdPaciente\n",
        "\n",
        "  def agregarEstudio(self, estudio):\n",
        "    self.listaEstudios = self.listaEstudios.append(estudio)\n",
        "\n",
        "  def verestudio(self,indice):\n",
        "    self.listaEstudios=self.listaEstudios[indice]\n",
        "\n",
        "class Estudio():\n",
        "  def __init__(self):\n",
        "    self.lista=[]\n",
        "\n",
        "  def asignarFecha(self,f):\n",
        "    self.__fecha=f\n",
        "\n",
        "  def asignarIDestudio(self,I):\n",
        "    self.__IDe=I\n",
        "\n",
        "  def asignarIDpaciente(self,Ip):\n",
        "    self.__IDp=Ip\n",
        "\n",
        "\n",
        "  def cargarArchivo(self,directorio):\n",
        "# Iterar sobre todos los archivos en el directorio\n",
        "    for filename in os.listdir(directorio):\n",
        "\n",
        "    # Comprobar si el archivo es un archivo DICOM\n",
        "      if filename.endswith('.dcm'):\n",
        "          # Construir la ruta completa del archivo\n",
        "          ruta_completa = os.path.join(directorio, filename)\n",
        "          # Leer el archivo DICOM y agregarlo a la lista\n",
        "          dcm_data = pydicom.dcmread(ruta_completa)\n",
        "          self.lista.append((filename, dcm_data))\n",
        "          return self.lista\n",
        "\n",
        "\n",
        "  def convertir(self,rutaDicom, rutaNifti):\n",
        "    self.dicom = rutaDicom\n",
        "    self.nifti= rutaNifti\n",
        "    self.conversion = dicom2nifti.convert_directory(self.dicom, self.nifti)\n",
        "    print('¡Felicidades! Se ha convertido con éxito')\n",
        "\n",
        "\n",
        "  def anonimizar(self, ruta, ruta2):\n",
        "    self.dicom = ruta\n",
        "    self.anonimizado= ruta2\n",
        "    datos = ['PatientName', 'PatientBirthDate', 'PatientSex']\n",
        "    # Iterar sobre todos los archivos en el directorio\n",
        "    for filename in os.listdir(self.dicom):\n",
        "        # Comprobar si el archivo es un archivo DICOM\n",
        "        if filename.endswith('.dcm'):\n",
        "            # Construir la ruta completa del archivo\n",
        "            ruta_completa = os.path.join(self.dicom, filename)\n",
        "\n",
        "            # Leer el archivo DICOM\n",
        "            dcm_data_anonymous = pydicom.dcmread(ruta_completa)\n",
        "\n",
        "            # Anonimizar los datos sensibles\n",
        "            for campo in datos:\n",
        "                if campo in dcm_data_anonymous:\n",
        "                    dcm_data_anonymous[campo].value = 'Anonymous'\n",
        "                elif campo == 'PatientSex':\n",
        "                    dcm_data_anonymous[campo].value = 'NAN'\n",
        "\n",
        "            # Construir la ruta completa del archivo anonimizado\n",
        "            ruta_anonimizada = os.path.join(self.anonimizado, filename)\n",
        "\n",
        "            # Crear el directorio de destino si no existe\n",
        "            os.makedirs(self.anonimizado, exist_ok=True)\n",
        "\n",
        "            # Guardar el archivo DICOM anonimizado\n",
        "            dcm_data_anonymous.save_as(ruta_anonimizada)"
      ]
    },
    {
      "cell_type": "code",
      "source": [
        "import os\n",
        "paciente1= Paciente()\n",
        "paciente1.asignarNombre('Juan')\n",
        "paciente1.verNombre()\n",
        "\n",
        "estudio1=Estudio()\n",
        "estudio=estudio1.cargarArchivo(r'/content/drive/MyDrive/6to semestre/info ll/Trabajo unidad 3/Archivos/0001')\n",
        "estudio1.convertir('/content/drive/MyDrive/6to semestre/info ll/Trabajo unidad 3/Archivos/0001','/content/drive/MyDrive/6to semestre/info ll/Trabajo unidad 3/Archivos/0001/anonimizados (1)')"
      ],
      "metadata": {
        "id": "3zumFhoheiNf",
        "colab": {
          "base_uri": "https://localhost:8080/"
        },
        "outputId": "16d085cc-841d-4923-b036-3b3bee2a4ee1"
      },
      "execution_count": 18,
      "outputs": [
        {
          "output_type": "stream",
          "name": "stdout",
          "text": [
            "¡Felicidades! Se ha convertido con éxito\n"
          ]
        }
      ]
    },
    {
      "cell_type": "code",
      "source": [
        "estudio1.anonimizar('/content/drive/MyDrive/6to semestre/info ll/Trabajo unidad 3/Archivos/0001','/content/drive/MyDrive/6to semestre/info ll/Trabajo unidad 3/Archivos/0001/anonimizados (1)')"
      ],
      "metadata": {
        "id": "JmhJ2bU5l8eO"
      },
      "execution_count": 19,
      "outputs": []
    },
    {
      "cell_type": "code",
      "source": [
        "paciente1.agregarEstudio(estudio1)\n",
        "\n",
        "paciente1.asignarIdPaciente(1111)"
      ],
      "metadata": {
        "id": "PeqduoJ5opJF"
      },
      "execution_count": 20,
      "outputs": []
    },
    {
      "cell_type": "code",
      "source": [
        "class Sistema():\n",
        "    def __init__(self):\n",
        "        self.pacientes = {}\n",
        "\n",
        "    def agregar(self, paciente):\n",
        "        idpaciente = paciente.verIdPaciente()\n",
        "        self.pacientes[idpaciente] = paciente\n",
        "\n",
        "    def ingresarEstudio(self,E):\n",
        "        self.estudio = E\n",
        "\n",
        "    def ingresarPaciente(self,P):\n",
        "        self.paciente = P\n",
        "\n",
        "    def consultarPacientes(self, idPaciente=None):\n",
        "        if idPaciente: #si existe obtendrá su info\n",
        "            paciente = self.pacientes.get(idPaciente) # obtiene el paciente del dicc\n",
        "            if paciente:\n",
        "                print(f\"ID: {idPaciente}, Nombre: {paciente.verNombre()}, Número de estudios: {count(paciente.listaEstudios)}\")\n",
        "            else:\n",
        "                print(f\"No se encontró ningún paciente con ID: {idPaciente}\")\n",
        "        else:\n",
        "            for idpaciente, paciente in self.pacientes.items(): #iterar sobre los pacientes\n",
        "                print(f\"ID: {idpaciente}, Nombre: {paciente.verNombre()}, Número de estudios: {len(paciente.listaEstudios)}\")\n",
        "\n",
        "    def obtenerDetallesEstudio(self, idPaciente, indiceEstudio):\n",
        "        paciente = self.pacientes.get(idPaciente) #obtener paciente del dic\n",
        "        if paciente and 0 <= indiceEstudio < len(paciente.listaEstudios): #clave para un orden esp\n",
        "            estudio = paciente.listaEstudios[indiceEstudio]\n",
        "            detalles = []\n",
        "            for _, dcm_data in estudio.lista:\n",
        "                detalles.append({\n",
        "                    \"Fecha\": dcm_data.StudyDate,\n",
        "                    \"Modalidad\": dcm_data.Modality,\n",
        "                    \"Descripción\": dcm_data.StudyDescription,\n",
        "                    \"Dimensiones\": dcm_data.pixel_array.shape if 'pixel_array' in dcm_data else None\n",
        "                })\n",
        "            return detalles\n",
        "        return None\n",
        "\n",
        "        # Método para visualizar una imagen NIfTI\n",
        "    def visualizarImagen(self, rutaNifti):\n",
        "        import matplotlib.pyplot as plt          # Importa la biblioteca matplotlib para visualización de gráficos\n",
        "        from nilearn import plotting              # Importa la función plotting de nilearn para visualizar imágenes médicas\n",
        "        plotting.plot_img(rutaNifti)                # Usa plotting para mostrar la imagen NIfTI\n",
        "        plt.show()                                         # Muestra la imagen en una ventana gráfica\n",
        "\n",
        "    def eliminarEstudio(self, idPaciente, indiceEstudio):\n",
        "        paciente = self.pacientes.get(idPaciente)\n",
        "        if paciente and 0 <= indiceEstudio < len(paciente.listaEstudios):\n",
        "            del paciente.listaEstudios[indiceEstudio]\n",
        "            return True #si existe\n",
        "        return False #si no existe\n",
        "\n",
        "    def verificarExiste(self,u):\n",
        "        return u in self.pacientes"
      ],
      "metadata": {
        "id": "cldjUMK5cbrp"
      },
      "execution_count": 21,
      "outputs": []
    },
    {
      "cell_type": "code",
      "execution_count": 17,
      "metadata": {
        "id": "8oqpLtUYHXFH",
        "colab": {
          "base_uri": "https://localhost:8080/"
        },
        "outputId": "74af218c-eab4-47a0-e1c2-20b4c86cd748"
      },
      "outputs": [
        {
          "output_type": "stream",
          "name": "stdout",
          "text": [
            "Bienvenido  \n",
            "Seleccione su solicitud: \n",
            "\n",
            "1.Validar ID del estudio.\n",
            "2.Agregar estudio a un paciente.\n",
            "3.Consultar un estudio.\n",
            "4.Eliminar estudio.\n",
            "5.Salir del sistema. \n",
            "Respuesta: 5\n",
            "\n",
            "Has salido del sistema\n"
          ]
        }
      ],
      "source": [
        "def main():\n",
        "  sis = Sistema()\n",
        "\n",
        "  while True:\n",
        "\n",
        "\n",
        "    print(\"Bienvenido  \")\n",
        "    print(\"Seleccione su solicitud: \")\n",
        "\n",
        "\n",
        "    a=int(input(\"\\n1.Validar ID del estudio.\\n2.Agregar estudio a un paciente.\\n3.Consultar un estudio.\\n4.Eliminar estudio.\\n5.Salir del sistema. \\nRespuesta: \"))\n",
        "\n",
        "    if a == 1:\n",
        "      id_estudio=input(\"Ingrese el ID del estudio: \")\n",
        "      if sis.verificarExiste(id_estudio)==True:\n",
        "        print(\"\\nEste paciente ya se encuentra ingresada en el sistema\")\n",
        "        continue\n",
        "      else:\n",
        "          fecha=input(\"\\nIngrese la fecha: \")\n",
        "          IDestudio=input(\"\\nIngrese el ID del estudio que desea registrar: \")\n",
        "          et=Estudio()\n",
        "          et.asignarFecha(fecha)\n",
        "          et.asignarIDestudio(id_estudio)\n",
        "          sis.ingresarEstudio(et)\n",
        "\n",
        "    if a == 2:\n",
        "      id_estudio=input(\"\\nIngrese el ID del estudio: \")\n",
        "      if sis.verificarExiste(id_estudio)==True:\n",
        "        print(\"\\nEste estudio ya se encuentra asignado en el sistema\")\n",
        "        continue\n",
        "      else:\n",
        "\n",
        "          id_estudio=input(\"\\nRegistre el ID del estudio: \")\n",
        "          et=Estudio()\n",
        "\n",
        "          et.asignarIDpaciente(id_estudio)\n",
        "          sis.ingresarPaciente(et)\n",
        "\n",
        "    if a == 3:\n",
        "        print(\"Para poder visualizar la información, es necesario ingresar el ID del estudio\")\n",
        "        id_estudio=input(\"\\nIngrese el ID: \")\n",
        "        if sis.verificarExiste(id_estudio)==False:\n",
        "          print(\"\\nNo se ha registrado ningun reporte con ese ID\\n\")\n",
        "          break\n",
        "\n",
        "    if a == 4:\n",
        "            idPaciente = int(input(\"Ingrese el ID del paciente: \"))\n",
        "            indiceEstudio = int(input(\"Ingrese el índice del estudio: \"))\n",
        "            if sis.eliminarEstudio(idPaciente, indiceEstudio):\n",
        "                print(\"Estudio eliminado exitosamente\")\n",
        "            else:\n",
        "                print(\"No se pudo eliminar el estudio\")\n",
        "\n",
        "    if a ==5:\n",
        "      print(\"\\nHas salido del sistema\")\n",
        "      break\n",
        "\n",
        "    else:\n",
        "        print(\"\\nNo ha escogido ninguna opción\\n\")\n",
        "\n",
        "if __name__=='__main__':\n",
        "   main()"
      ]
    }
  ]
}